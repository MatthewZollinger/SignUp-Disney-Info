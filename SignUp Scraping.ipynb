{
 "cells": [
  {
   "cell_type": "markdown",
   "id": "4aea842d",
   "metadata": {},
   "source": [
    "### This code scrapes SignUp's homepage, utilizing Selenium to select its \"View all titles\" button and then scrapes the list that appears. At the time of writing, that list is of supported Disney+ titles, but there are buttons to switch to several other streaming services as well.\n",
    "\n",
    "The output data contains the following variables:\n",
    "* blank column that designates index\n",
    "* **title**: name of the title.\n",
    "* columns that indicate whether the title has captions in American Sign Language (**ASL**), Auslan (**Auslan** - not supported by any titles at the time of writing), British Sign Language (**BSL**), or Indian Sign Language (**ISL**)\n",
    "\n",
    "Required packages:\n",
    "* selenium\n",
    "* pandas\n",
    "* bs4\n",
    "* requests\n",
    "* re"
   ]
  },
  {
   "cell_type": "code",
   "execution_count": 1,
   "id": "6d40cc7f",
   "metadata": {},
   "outputs": [],
   "source": [
    "import pandas as pd\n",
    "from bs4 import BeautifulSoup\n",
    "import requests\n",
    "import re\n",
    "from selenium import webdriver\n",
    "from selenium.webdriver.support.ui import WebDriverWait\n",
    "from selenium.webdriver.common.by import By\n",
    "from selenium.webdriver.support import expected_conditions as EC\n",
    "from selenium.webdriver.support.select import Select"
   ]
  },
  {
   "cell_type": "code",
   "execution_count": 3,
   "id": "12723b01",
   "metadata": {},
   "outputs": [],
   "source": [
    "timer = 3 # change if your browser needs more time until the list of movies is visible"
   ]
  },
  {
   "cell_type": "code",
   "execution_count": 4,
   "id": "ef81895a",
   "metadata": {},
   "outputs": [],
   "source": [
    "# initializes our Edge session\n",
    "driver = webdriver.Edge()\n",
    "\n",
    "url = \"https://www.signupcaptions.com/\"\n",
    "driver.get(url)\n",
    "\n",
    "# a wait condition\n",
    "# it waits until the CSS selector of the button we want to click is present before moving on and times out after 3 seconds\n",
    "WebDriverWait(driver, timeout = timer).until(EC.presence_of_element_located((By.CSS_SELECTOR, \"#movies > button\")))\n",
    "\n",
    "# tracks down the button we want to click and stores it\n",
    "b = driver.find_element(By.CSS_SELECTOR, \"#movies > button\")\n",
    "# clicks the button\n",
    "driver.execute_script(\"arguments[0].click();\", b)\n",
    "# waits until the list of movies is visible before moving on and times out after 3 seconds\n",
    "#\"#movies > div.allMovies > div:nth-child(62) > img\"\n",
    "WebDriverWait(driver, timeout=timer).until(EC.visibility_of_element_located((By.CSS_SELECTOR, \"#movies > div.allMovies\")))\n",
    "# saves the new version of the page as a variable\n",
    "exp = driver.page_source\n",
    "# closes the driver\n",
    "driver.quit()"
   ]
  },
  {
   "cell_type": "code",
   "execution_count": 5,
   "id": "0b7523cd",
   "metadata": {},
   "outputs": [],
   "source": [
    "# standard conversion to BS4\n",
    "soup = BeautifulSoup(exp)"
   ]
  },
  {
   "cell_type": "code",
   "execution_count": 6,
   "id": "ff9c328f",
   "metadata": {},
   "outputs": [],
   "source": [
    "movies = soup.find_all(\"div\", class_ = \"movie\")"
   ]
  },
  {
   "cell_type": "code",
   "execution_count": 37,
   "id": "bf850c99",
   "metadata": {},
   "outputs": [],
   "source": [
    "#movielist = pd.DataFrame[movies[i].find_all(\"div\")[0].text for i in range(0, len(movies))])\n",
    "movielist = [movies[i].find_all(\"div\")[0].text for i in range(0, len(movies))]"
   ]
  },
  {
   "cell_type": "code",
   "execution_count": 38,
   "id": "4b2b46de",
   "metadata": {},
   "outputs": [],
   "source": [
    "def trial(test):\n",
    "    try:\n",
    "        test[0]\n",
    "    except IndexError:\n",
    "        test = \"ZNull\"\n",
    "    return test"
   ]
  },
  {
   "cell_type": "code",
   "execution_count": 42,
   "id": "f9f30d2f",
   "metadata": {},
   "outputs": [],
   "source": [
    "count = len(movielist)\n",
    "ASL = [False] * count\n",
    "AUS = [False] * count\n",
    "BSL = [False] * count\n",
    "ISL = [False] * count"
   ]
  },
  {
   "cell_type": "code",
   "execution_count": 44,
   "id": "3f906c56",
   "metadata": {},
   "outputs": [],
   "source": [
    "for i in range(0, count):\n",
    "    test = movies[i].find_all(\"div\")[1].text\n",
    "    if (test[0] == \"a\"):\n",
    "        if (test[1] == \"s\"):\n",
    "            ASL[i] = True\n",
    "            test = trial(test.lstrip(\"asl\"))\n",
    "        if (test[1] == \"u\"):\n",
    "            AUS[i] = True\n",
    "            test = trial(test.lstrip(\"aus\"))\n",
    "    if (test[0] == \"b\"):\n",
    "        BSL[i] = True\n",
    "        test = trial(test.lstrip(\"bsl\"))\n",
    "    if (test[0] == \"i\"):\n",
    "        ISL[i] = True\n",
    "        test = trial(test.lstrip(\"isl\"))"
   ]
  },
  {
   "cell_type": "code",
   "execution_count": 48,
   "id": "38afaaaa",
   "metadata": {},
   "outputs": [],
   "source": [
    "final = pd.DataFrame({\"title\": movielist, \"ASL\": ASL, \"Auslan\": AUS, \"BSL\": BSL, \"ISL\": ISL})"
   ]
  },
  {
   "cell_type": "code",
   "execution_count": 49,
   "id": "9bbab981",
   "metadata": {},
   "outputs": [],
   "source": [
    "final.to_csv(\"signupdisney.csv\")"
   ]
  }
 ],
 "metadata": {
  "kernelspec": {
   "display_name": "Python 3 (ipykernel)",
   "language": "python",
   "name": "python3"
  },
  "language_info": {
   "codemirror_mode": {
    "name": "ipython",
    "version": 3
   },
   "file_extension": ".py",
   "mimetype": "text/x-python",
   "name": "python",
   "nbconvert_exporter": "python",
   "pygments_lexer": "ipython3",
   "version": "3.10.11"
  }
 },
 "nbformat": 4,
 "nbformat_minor": 5
}
